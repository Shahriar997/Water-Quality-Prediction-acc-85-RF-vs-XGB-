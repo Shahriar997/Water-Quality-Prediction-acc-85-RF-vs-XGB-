{
  "nbformat": 4,
  "nbformat_minor": 0,
  "metadata": {
    "colab": {
      "name": "Water Quality Prediction.ipynb",
      "provenance": [],
      "collapsed_sections": []
    },
    "kernelspec": {
      "name": "python3",
      "display_name": "Python 3"
    },
    "language_info": {
      "name": "python"
    }
  },
  "cells": [
    {
      "cell_type": "code",
      "metadata": {
        "id": "cYjXzW5Rlw4V"
      },
      "source": [
        "import numpy as np # linear algebra\n",
        "import pandas as pd # data processing, CSV file I/O (e.g. pd.read_csv)"
      ],
      "execution_count": 345,
      "outputs": []
    },
    {
      "cell_type": "code",
      "metadata": {
        "id": "c4k1SbUvl1vl"
      },
      "source": [
        "import os\n",
        "for dirname, _, filenames in os.walk('/kaggle/input'):\n",
        "    for filename in filenames:\n",
        "        print(os.path.join(dirname, filename))"
      ],
      "execution_count": 346,
      "outputs": []
    },
    {
      "cell_type": "code",
      "metadata": {
        "id": "F2ori1uZl6WX"
      },
      "source": [
        "df = pd.read_csv(\"water_potability.csv\")"
      ],
      "execution_count": 347,
      "outputs": []
    },
    {
      "cell_type": "code",
      "metadata": {
        "colab": {
          "base_uri": "https://localhost:8080/",
          "height": 224
        },
        "id": "OtY-QzJDl80l",
        "outputId": "b0db7d01-564d-48dd-f3f9-48de61c059f8"
      },
      "source": [
        "df.head()\n"
      ],
      "execution_count": 348,
      "outputs": [
        {
          "output_type": "execute_result",
          "data": {
            "text/html": [
              "<div>\n",
              "<style scoped>\n",
              "    .dataframe tbody tr th:only-of-type {\n",
              "        vertical-align: middle;\n",
              "    }\n",
              "\n",
              "    .dataframe tbody tr th {\n",
              "        vertical-align: top;\n",
              "    }\n",
              "\n",
              "    .dataframe thead th {\n",
              "        text-align: right;\n",
              "    }\n",
              "</style>\n",
              "<table border=\"1\" class=\"dataframe\">\n",
              "  <thead>\n",
              "    <tr style=\"text-align: right;\">\n",
              "      <th></th>\n",
              "      <th>ph</th>\n",
              "      <th>Hardness</th>\n",
              "      <th>Solids</th>\n",
              "      <th>Chloramines</th>\n",
              "      <th>Sulfate</th>\n",
              "      <th>Conductivity</th>\n",
              "      <th>Organic_carbon</th>\n",
              "      <th>Trihalomethanes</th>\n",
              "      <th>Turbidity</th>\n",
              "      <th>Potability</th>\n",
              "    </tr>\n",
              "  </thead>\n",
              "  <tbody>\n",
              "    <tr>\n",
              "      <th>0</th>\n",
              "      <td>NaN</td>\n",
              "      <td>204.890455</td>\n",
              "      <td>20791.318981</td>\n",
              "      <td>7.300212</td>\n",
              "      <td>368.516441</td>\n",
              "      <td>564.308654</td>\n",
              "      <td>10.379783</td>\n",
              "      <td>86.990970</td>\n",
              "      <td>2.963135</td>\n",
              "      <td>0</td>\n",
              "    </tr>\n",
              "    <tr>\n",
              "      <th>1</th>\n",
              "      <td>3.716080</td>\n",
              "      <td>129.422921</td>\n",
              "      <td>18630.057858</td>\n",
              "      <td>6.635246</td>\n",
              "      <td>NaN</td>\n",
              "      <td>592.885359</td>\n",
              "      <td>15.180013</td>\n",
              "      <td>56.329076</td>\n",
              "      <td>4.500656</td>\n",
              "      <td>0</td>\n",
              "    </tr>\n",
              "    <tr>\n",
              "      <th>2</th>\n",
              "      <td>8.099124</td>\n",
              "      <td>224.236259</td>\n",
              "      <td>19909.541732</td>\n",
              "      <td>9.275884</td>\n",
              "      <td>NaN</td>\n",
              "      <td>418.606213</td>\n",
              "      <td>16.868637</td>\n",
              "      <td>66.420093</td>\n",
              "      <td>3.055934</td>\n",
              "      <td>0</td>\n",
              "    </tr>\n",
              "    <tr>\n",
              "      <th>3</th>\n",
              "      <td>8.316766</td>\n",
              "      <td>214.373394</td>\n",
              "      <td>22018.417441</td>\n",
              "      <td>8.059332</td>\n",
              "      <td>356.886136</td>\n",
              "      <td>363.266516</td>\n",
              "      <td>18.436524</td>\n",
              "      <td>100.341674</td>\n",
              "      <td>4.628771</td>\n",
              "      <td>0</td>\n",
              "    </tr>\n",
              "    <tr>\n",
              "      <th>4</th>\n",
              "      <td>9.092223</td>\n",
              "      <td>181.101509</td>\n",
              "      <td>17978.986339</td>\n",
              "      <td>6.546600</td>\n",
              "      <td>310.135738</td>\n",
              "      <td>398.410813</td>\n",
              "      <td>11.558279</td>\n",
              "      <td>31.997993</td>\n",
              "      <td>4.075075</td>\n",
              "      <td>0</td>\n",
              "    </tr>\n",
              "  </tbody>\n",
              "</table>\n",
              "</div>"
            ],
            "text/plain": [
              "         ph    Hardness        Solids  ...  Trihalomethanes  Turbidity  Potability\n",
              "0       NaN  204.890455  20791.318981  ...        86.990970   2.963135           0\n",
              "1  3.716080  129.422921  18630.057858  ...        56.329076   4.500656           0\n",
              "2  8.099124  224.236259  19909.541732  ...        66.420093   3.055934           0\n",
              "3  8.316766  214.373394  22018.417441  ...       100.341674   4.628771           0\n",
              "4  9.092223  181.101509  17978.986339  ...        31.997993   4.075075           0\n",
              "\n",
              "[5 rows x 10 columns]"
            ]
          },
          "metadata": {
            "tags": []
          },
          "execution_count": 348
        }
      ]
    },
    {
      "cell_type": "markdown",
      "metadata": {
        "id": "jRn_oa_AsD2w"
      },
      "source": [
        "#Handling null value"
      ]
    },
    {
      "cell_type": "code",
      "metadata": {
        "colab": {
          "base_uri": "https://localhost:8080/"
        },
        "id": "ZXCyWzKhmdhG",
        "outputId": "6610e486-4d30-4cf4-9547-34887a03147e"
      },
      "source": [
        "df.isnull().sum()"
      ],
      "execution_count": 349,
      "outputs": [
        {
          "output_type": "execute_result",
          "data": {
            "text/plain": [
              "ph                 491\n",
              "Hardness             0\n",
              "Solids               0\n",
              "Chloramines          0\n",
              "Sulfate            781\n",
              "Conductivity         0\n",
              "Organic_carbon       0\n",
              "Trihalomethanes    162\n",
              "Turbidity            0\n",
              "Potability           0\n",
              "dtype: int64"
            ]
          },
          "metadata": {
            "tags": []
          },
          "execution_count": 349
        }
      ]
    },
    {
      "cell_type": "code",
      "metadata": {
        "colab": {
          "base_uri": "https://localhost:8080/"
        },
        "id": "qU10OCcgmiY9",
        "outputId": "ae6a5c26-9dc6-4769-f361-bb9caa13f8c9"
      },
      "source": [
        "print(\"number of rows: \", df.shape[0])\n",
        "print(\"number of column: \", df.shape[1])\n",
        "df.Potability.value_counts()"
      ],
      "execution_count": 350,
      "outputs": [
        {
          "output_type": "stream",
          "text": [
            "number of rows:  3276\n",
            "number of column:  10\n"
          ],
          "name": "stdout"
        },
        {
          "output_type": "execute_result",
          "data": {
            "text/plain": [
              "0    1998\n",
              "1    1278\n",
              "Name: Potability, dtype: int64"
            ]
          },
          "metadata": {
            "tags": []
          },
          "execution_count": 350
        }
      ]
    },
    {
      "cell_type": "code",
      "metadata": {
        "id": "xUZSNbgImwBS"
      },
      "source": [
        "#df = df.dropna() # dropping all row with null values\n",
        "df_notpotable  = df[df['Potability']==0]\n",
        "df_potable = df[df['Potability']==1] \n"
      ],
      "execution_count": 351,
      "outputs": []
    },
    {
      "cell_type": "code",
      "metadata": {
        "colab": {
          "base_uri": "https://localhost:8080/"
        },
        "id": "7yUYgPPrseAy",
        "outputId": "680472df-344e-4b02-96dc-c25154849999"
      },
      "source": [
        "df_notpotable.isnull().sum()"
      ],
      "execution_count": 352,
      "outputs": [
        {
          "output_type": "execute_result",
          "data": {
            "text/plain": [
              "ph                 314\n",
              "Hardness             0\n",
              "Solids               0\n",
              "Chloramines          0\n",
              "Sulfate            488\n",
              "Conductivity         0\n",
              "Organic_carbon       0\n",
              "Trihalomethanes    107\n",
              "Turbidity            0\n",
              "Potability           0\n",
              "dtype: int64"
            ]
          },
          "metadata": {
            "tags": []
          },
          "execution_count": 352
        }
      ]
    },
    {
      "cell_type": "code",
      "metadata": {
        "colab": {
          "base_uri": "https://localhost:8080/"
        },
        "id": "xI9sP4E2sztH",
        "outputId": "de37a4a4-10dc-426f-f44f-f6191b4b1e05"
      },
      "source": [
        "df_potable.isnull().sum()"
      ],
      "execution_count": 353,
      "outputs": [
        {
          "output_type": "execute_result",
          "data": {
            "text/plain": [
              "ph                 177\n",
              "Hardness             0\n",
              "Solids               0\n",
              "Chloramines          0\n",
              "Sulfate            293\n",
              "Conductivity         0\n",
              "Organic_carbon       0\n",
              "Trihalomethanes     55\n",
              "Turbidity            0\n",
              "Potability           0\n",
              "dtype: int64"
            ]
          },
          "metadata": {
            "tags": []
          },
          "execution_count": 353
        }
      ]
    },
    {
      "cell_type": "code",
      "metadata": {
        "colab": {
          "base_uri": "https://localhost:8080/"
        },
        "id": "6HRv_UAds94J",
        "outputId": "1e3c611a-d0e0-4cd2-b813-fef2a1f38d5a"
      },
      "source": [
        "from sklearn.impute import SimpleImputer\n",
        "\n",
        "impute = SimpleImputer(missing_values=np.nan, strategy = 'mean')\n",
        "\n",
        "#for df_notpotable\n",
        "impute.fit(df_notpotable[['ph']])\n",
        "impute.fit(df_notpotable[['Sulfate']])\n",
        "impute.fit(df_notpotable[['Trihalomethanes']])\n",
        "\n",
        "df_notpotable['ph'] = impute.transform(df_notpotable[['ph']])\n",
        "df_notpotable['Sulfate'] = impute.transform(df_notpotable[['Sulfate']])\n",
        "df_notpotable['Trihalomethanes'] = impute.transform(df_notpotable[['Trihalomethanes']])\n",
        "\n",
        "#for df_potable\n",
        "impute.fit(df_potable[['ph']])\n",
        "impute.fit(df_potable[['Sulfate']])\n",
        "impute.fit(df_potable[['Trihalomethanes']])\n",
        "\n",
        "df_potable['ph'] = impute.transform(df_potable[['ph']])\n",
        "df_potable['Sulfate'] = impute.transform(df_potable[['Sulfate']])\n",
        "df_potable['Trihalomethanes'] = impute.transform(df_potable[['Trihalomethanes']])"
      ],
      "execution_count": 354,
      "outputs": [
        {
          "output_type": "stream",
          "text": [
            "/usr/local/lib/python3.7/dist-packages/ipykernel_launcher.py:10: SettingWithCopyWarning: \n",
            "A value is trying to be set on a copy of a slice from a DataFrame.\n",
            "Try using .loc[row_indexer,col_indexer] = value instead\n",
            "\n",
            "See the caveats in the documentation: https://pandas.pydata.org/pandas-docs/stable/user_guide/indexing.html#returning-a-view-versus-a-copy\n",
            "  # Remove the CWD from sys.path while we load stuff.\n",
            "/usr/local/lib/python3.7/dist-packages/ipykernel_launcher.py:11: SettingWithCopyWarning: \n",
            "A value is trying to be set on a copy of a slice from a DataFrame.\n",
            "Try using .loc[row_indexer,col_indexer] = value instead\n",
            "\n",
            "See the caveats in the documentation: https://pandas.pydata.org/pandas-docs/stable/user_guide/indexing.html#returning-a-view-versus-a-copy\n",
            "  # This is added back by InteractiveShellApp.init_path()\n",
            "/usr/local/lib/python3.7/dist-packages/ipykernel_launcher.py:12: SettingWithCopyWarning: \n",
            "A value is trying to be set on a copy of a slice from a DataFrame.\n",
            "Try using .loc[row_indexer,col_indexer] = value instead\n",
            "\n",
            "See the caveats in the documentation: https://pandas.pydata.org/pandas-docs/stable/user_guide/indexing.html#returning-a-view-versus-a-copy\n",
            "  if sys.path[0] == '':\n",
            "/usr/local/lib/python3.7/dist-packages/ipykernel_launcher.py:19: SettingWithCopyWarning: \n",
            "A value is trying to be set on a copy of a slice from a DataFrame.\n",
            "Try using .loc[row_indexer,col_indexer] = value instead\n",
            "\n",
            "See the caveats in the documentation: https://pandas.pydata.org/pandas-docs/stable/user_guide/indexing.html#returning-a-view-versus-a-copy\n",
            "/usr/local/lib/python3.7/dist-packages/ipykernel_launcher.py:20: SettingWithCopyWarning: \n",
            "A value is trying to be set on a copy of a slice from a DataFrame.\n",
            "Try using .loc[row_indexer,col_indexer] = value instead\n",
            "\n",
            "See the caveats in the documentation: https://pandas.pydata.org/pandas-docs/stable/user_guide/indexing.html#returning-a-view-versus-a-copy\n",
            "/usr/local/lib/python3.7/dist-packages/ipykernel_launcher.py:21: SettingWithCopyWarning: \n",
            "A value is trying to be set on a copy of a slice from a DataFrame.\n",
            "Try using .loc[row_indexer,col_indexer] = value instead\n",
            "\n",
            "See the caveats in the documentation: https://pandas.pydata.org/pandas-docs/stable/user_guide/indexing.html#returning-a-view-versus-a-copy\n"
          ],
          "name": "stderr"
        }
      ]
    },
    {
      "cell_type": "code",
      "metadata": {
        "colab": {
          "base_uri": "https://localhost:8080/"
        },
        "id": "eIUJMVDDuU0u",
        "outputId": "e3773618-c67b-40f1-aef3-086b4cf3730e"
      },
      "source": [
        "df_notpotable.isnull().sum()"
      ],
      "execution_count": 355,
      "outputs": [
        {
          "output_type": "execute_result",
          "data": {
            "text/plain": [
              "ph                 0\n",
              "Hardness           0\n",
              "Solids             0\n",
              "Chloramines        0\n",
              "Sulfate            0\n",
              "Conductivity       0\n",
              "Organic_carbon     0\n",
              "Trihalomethanes    0\n",
              "Turbidity          0\n",
              "Potability         0\n",
              "dtype: int64"
            ]
          },
          "metadata": {
            "tags": []
          },
          "execution_count": 355
        }
      ]
    },
    {
      "cell_type": "code",
      "metadata": {
        "colab": {
          "base_uri": "https://localhost:8080/"
        },
        "id": "vP_avQdnnScn",
        "outputId": "c16883c4-eaca-4b7f-8ae0-b51a0cf40ae9"
      },
      "source": [
        "df.Potability.value_counts()"
      ],
      "execution_count": 356,
      "outputs": [
        {
          "output_type": "execute_result",
          "data": {
            "text/plain": [
              "0    1998\n",
              "1    1278\n",
              "Name: Potability, dtype: int64"
            ]
          },
          "metadata": {
            "tags": []
          },
          "execution_count": 356
        }
      ]
    },
    {
      "cell_type": "code",
      "metadata": {
        "colab": {
          "base_uri": "https://localhost:8080/"
        },
        "id": "TvXFmiq7uWJD",
        "outputId": "90d2f16c-26c3-4c00-f5bc-2ce3ee16a7f2"
      },
      "source": [
        "df_potable.isnull().sum()"
      ],
      "execution_count": 357,
      "outputs": [
        {
          "output_type": "execute_result",
          "data": {
            "text/plain": [
              "ph                 0\n",
              "Hardness           0\n",
              "Solids             0\n",
              "Chloramines        0\n",
              "Sulfate            0\n",
              "Conductivity       0\n",
              "Organic_carbon     0\n",
              "Trihalomethanes    0\n",
              "Turbidity          0\n",
              "Potability         0\n",
              "dtype: int64"
            ]
          },
          "metadata": {
            "tags": []
          },
          "execution_count": 357
        }
      ]
    },
    {
      "cell_type": "code",
      "metadata": {
        "id": "t1nHNj-ps5Fc"
      },
      "source": [
        "df = pd.concat([df_notpotable, df_potable])\n"
      ],
      "execution_count": 358,
      "outputs": []
    },
    {
      "cell_type": "code",
      "metadata": {
        "colab": {
          "base_uri": "https://localhost:8080/",
          "height": 224
        },
        "id": "KbY5g_9PnVko",
        "outputId": "73a7d118-6c6f-475f-9a3a-1138367dc01e"
      },
      "source": [
        "df.head()"
      ],
      "execution_count": 359,
      "outputs": [
        {
          "output_type": "execute_result",
          "data": {
            "text/html": [
              "<div>\n",
              "<style scoped>\n",
              "    .dataframe tbody tr th:only-of-type {\n",
              "        vertical-align: middle;\n",
              "    }\n",
              "\n",
              "    .dataframe tbody tr th {\n",
              "        vertical-align: top;\n",
              "    }\n",
              "\n",
              "    .dataframe thead th {\n",
              "        text-align: right;\n",
              "    }\n",
              "</style>\n",
              "<table border=\"1\" class=\"dataframe\">\n",
              "  <thead>\n",
              "    <tr style=\"text-align: right;\">\n",
              "      <th></th>\n",
              "      <th>ph</th>\n",
              "      <th>Hardness</th>\n",
              "      <th>Solids</th>\n",
              "      <th>Chloramines</th>\n",
              "      <th>Sulfate</th>\n",
              "      <th>Conductivity</th>\n",
              "      <th>Organic_carbon</th>\n",
              "      <th>Trihalomethanes</th>\n",
              "      <th>Turbidity</th>\n",
              "      <th>Potability</th>\n",
              "    </tr>\n",
              "  </thead>\n",
              "  <tbody>\n",
              "    <tr>\n",
              "      <th>0</th>\n",
              "      <td>66.303555</td>\n",
              "      <td>204.890455</td>\n",
              "      <td>20791.318981</td>\n",
              "      <td>7.300212</td>\n",
              "      <td>368.516441</td>\n",
              "      <td>564.308654</td>\n",
              "      <td>10.379783</td>\n",
              "      <td>86.990970</td>\n",
              "      <td>2.963135</td>\n",
              "      <td>0</td>\n",
              "    </tr>\n",
              "    <tr>\n",
              "      <th>1</th>\n",
              "      <td>3.716080</td>\n",
              "      <td>129.422921</td>\n",
              "      <td>18630.057858</td>\n",
              "      <td>6.635246</td>\n",
              "      <td>66.303555</td>\n",
              "      <td>592.885359</td>\n",
              "      <td>15.180013</td>\n",
              "      <td>56.329076</td>\n",
              "      <td>4.500656</td>\n",
              "      <td>0</td>\n",
              "    </tr>\n",
              "    <tr>\n",
              "      <th>2</th>\n",
              "      <td>8.099124</td>\n",
              "      <td>224.236259</td>\n",
              "      <td>19909.541732</td>\n",
              "      <td>9.275884</td>\n",
              "      <td>66.303555</td>\n",
              "      <td>418.606213</td>\n",
              "      <td>16.868637</td>\n",
              "      <td>66.420093</td>\n",
              "      <td>3.055934</td>\n",
              "      <td>0</td>\n",
              "    </tr>\n",
              "    <tr>\n",
              "      <th>3</th>\n",
              "      <td>8.316766</td>\n",
              "      <td>214.373394</td>\n",
              "      <td>22018.417441</td>\n",
              "      <td>8.059332</td>\n",
              "      <td>356.886136</td>\n",
              "      <td>363.266516</td>\n",
              "      <td>18.436524</td>\n",
              "      <td>100.341674</td>\n",
              "      <td>4.628771</td>\n",
              "      <td>0</td>\n",
              "    </tr>\n",
              "    <tr>\n",
              "      <th>4</th>\n",
              "      <td>9.092223</td>\n",
              "      <td>181.101509</td>\n",
              "      <td>17978.986339</td>\n",
              "      <td>6.546600</td>\n",
              "      <td>310.135738</td>\n",
              "      <td>398.410813</td>\n",
              "      <td>11.558279</td>\n",
              "      <td>31.997993</td>\n",
              "      <td>4.075075</td>\n",
              "      <td>0</td>\n",
              "    </tr>\n",
              "  </tbody>\n",
              "</table>\n",
              "</div>"
            ],
            "text/plain": [
              "          ph    Hardness        Solids  ...  Trihalomethanes  Turbidity  Potability\n",
              "0  66.303555  204.890455  20791.318981  ...        86.990970   2.963135           0\n",
              "1   3.716080  129.422921  18630.057858  ...        56.329076   4.500656           0\n",
              "2   8.099124  224.236259  19909.541732  ...        66.420093   3.055934           0\n",
              "3   8.316766  214.373394  22018.417441  ...       100.341674   4.628771           0\n",
              "4   9.092223  181.101509  17978.986339  ...        31.997993   4.075075           0\n",
              "\n",
              "[5 rows x 10 columns]"
            ]
          },
          "metadata": {
            "tags": []
          },
          "execution_count": 359
        }
      ]
    },
    {
      "cell_type": "code",
      "metadata": {
        "colab": {
          "base_uri": "https://localhost:8080/"
        },
        "id": "7LtzPVyhndAl",
        "outputId": "bc80d319-91a1-4fa0-ee2d-21413efbc580"
      },
      "source": [
        "df.shape"
      ],
      "execution_count": 360,
      "outputs": [
        {
          "output_type": "execute_result",
          "data": {
            "text/plain": [
              "(3276, 10)"
            ]
          },
          "metadata": {
            "tags": []
          },
          "execution_count": 360
        }
      ]
    },
    {
      "cell_type": "code",
      "metadata": {
        "colab": {
          "base_uri": "https://localhost:8080/"
        },
        "id": "LobYr7-3o5ZV",
        "outputId": "6c751102-3675-41e7-b153-ae5113528748"
      },
      "source": [
        "df.info()"
      ],
      "execution_count": 361,
      "outputs": [
        {
          "output_type": "stream",
          "text": [
            "<class 'pandas.core.frame.DataFrame'>\n",
            "Int64Index: 3276 entries, 0 to 3275\n",
            "Data columns (total 10 columns):\n",
            " #   Column           Non-Null Count  Dtype  \n",
            "---  ------           --------------  -----  \n",
            " 0   ph               3276 non-null   float64\n",
            " 1   Hardness         3276 non-null   float64\n",
            " 2   Solids           3276 non-null   float64\n",
            " 3   Chloramines      3276 non-null   float64\n",
            " 4   Sulfate          3276 non-null   float64\n",
            " 5   Conductivity     3276 non-null   float64\n",
            " 6   Organic_carbon   3276 non-null   float64\n",
            " 7   Trihalomethanes  3276 non-null   float64\n",
            " 8   Turbidity        3276 non-null   float64\n",
            " 9   Potability       3276 non-null   int64  \n",
            "dtypes: float64(9), int64(1)\n",
            "memory usage: 281.5 KB\n"
          ],
          "name": "stdout"
        }
      ]
    },
    {
      "cell_type": "markdown",
      "metadata": {
        "id": "H1mlosHWEajr"
      },
      "source": [
        "# Normalizing the Dataset"
      ]
    },
    {
      "cell_type": "code",
      "metadata": {
        "id": "aWH6AmaAqMSG"
      },
      "source": [
        "df = df.sample(frac = 1) # shuffling the rows"
      ],
      "execution_count": 362,
      "outputs": []
    },
    {
      "cell_type": "code",
      "metadata": {
        "colab": {
          "base_uri": "https://localhost:8080/",
          "height": 224
        },
        "id": "oPpTujm3qm3u",
        "outputId": "bf9119f7-2598-46cc-fe82-b74622c7dda3"
      },
      "source": [
        "df.head()"
      ],
      "execution_count": 363,
      "outputs": [
        {
          "output_type": "execute_result",
          "data": {
            "text/html": [
              "<div>\n",
              "<style scoped>\n",
              "    .dataframe tbody tr th:only-of-type {\n",
              "        vertical-align: middle;\n",
              "    }\n",
              "\n",
              "    .dataframe tbody tr th {\n",
              "        vertical-align: top;\n",
              "    }\n",
              "\n",
              "    .dataframe thead th {\n",
              "        text-align: right;\n",
              "    }\n",
              "</style>\n",
              "<table border=\"1\" class=\"dataframe\">\n",
              "  <thead>\n",
              "    <tr style=\"text-align: right;\">\n",
              "      <th></th>\n",
              "      <th>ph</th>\n",
              "      <th>Hardness</th>\n",
              "      <th>Solids</th>\n",
              "      <th>Chloramines</th>\n",
              "      <th>Sulfate</th>\n",
              "      <th>Conductivity</th>\n",
              "      <th>Organic_carbon</th>\n",
              "      <th>Trihalomethanes</th>\n",
              "      <th>Turbidity</th>\n",
              "      <th>Potability</th>\n",
              "    </tr>\n",
              "  </thead>\n",
              "  <tbody>\n",
              "    <tr>\n",
              "      <th>2790</th>\n",
              "      <td>7.266781</td>\n",
              "      <td>178.257710</td>\n",
              "      <td>27468.681707</td>\n",
              "      <td>6.043959</td>\n",
              "      <td>314.390628</td>\n",
              "      <td>400.624987</td>\n",
              "      <td>13.665328</td>\n",
              "      <td>87.131873</td>\n",
              "      <td>3.919827</td>\n",
              "      <td>1</td>\n",
              "    </tr>\n",
              "    <tr>\n",
              "      <th>122</th>\n",
              "      <td>66.303555</td>\n",
              "      <td>230.809482</td>\n",
              "      <td>27418.781044</td>\n",
              "      <td>7.136498</td>\n",
              "      <td>369.310008</td>\n",
              "      <td>274.660597</td>\n",
              "      <td>9.578585</td>\n",
              "      <td>72.376909</td>\n",
              "      <td>4.197595</td>\n",
              "      <td>0</td>\n",
              "    </tr>\n",
              "    <tr>\n",
              "      <th>3176</th>\n",
              "      <td>8.610963</td>\n",
              "      <td>125.158770</td>\n",
              "      <td>32079.774815</td>\n",
              "      <td>9.844921</td>\n",
              "      <td>264.052839</td>\n",
              "      <td>342.205252</td>\n",
              "      <td>12.947376</td>\n",
              "      <td>53.950269</td>\n",
              "      <td>4.614400</td>\n",
              "      <td>1</td>\n",
              "    </tr>\n",
              "    <tr>\n",
              "      <th>884</th>\n",
              "      <td>5.403196</td>\n",
              "      <td>185.643523</td>\n",
              "      <td>27509.893425</td>\n",
              "      <td>8.257587</td>\n",
              "      <td>66.303555</td>\n",
              "      <td>587.378692</td>\n",
              "      <td>10.024039</td>\n",
              "      <td>63.397500</td>\n",
              "      <td>3.871463</td>\n",
              "      <td>0</td>\n",
              "    </tr>\n",
              "    <tr>\n",
              "      <th>2541</th>\n",
              "      <td>5.735724</td>\n",
              "      <td>158.318741</td>\n",
              "      <td>25363.016594</td>\n",
              "      <td>7.728601</td>\n",
              "      <td>377.543291</td>\n",
              "      <td>568.304671</td>\n",
              "      <td>13.626624</td>\n",
              "      <td>75.952337</td>\n",
              "      <td>4.732954</td>\n",
              "      <td>0</td>\n",
              "    </tr>\n",
              "  </tbody>\n",
              "</table>\n",
              "</div>"
            ],
            "text/plain": [
              "             ph    Hardness  ...  Turbidity  Potability\n",
              "2790   7.266781  178.257710  ...   3.919827           1\n",
              "122   66.303555  230.809482  ...   4.197595           0\n",
              "3176   8.610963  125.158770  ...   4.614400           1\n",
              "884    5.403196  185.643523  ...   3.871463           0\n",
              "2541   5.735724  158.318741  ...   4.732954           0\n",
              "\n",
              "[5 rows x 10 columns]"
            ]
          },
          "metadata": {
            "tags": []
          },
          "execution_count": 363
        }
      ]
    },
    {
      "cell_type": "code",
      "metadata": {
        "id": "kixyy9b_o8FA"
      },
      "source": [
        "x = df.drop('Potability', axis = 1) #getting x\n",
        "y = df['Potability'] #getting y "
      ],
      "execution_count": 364,
      "outputs": []
    },
    {
      "cell_type": "code",
      "metadata": {
        "colab": {
          "base_uri": "https://localhost:8080/",
          "height": 439
        },
        "id": "JPuK6QSBo8O_",
        "outputId": "d7a000a0-c6e0-4347-e54d-44726a8db78d"
      },
      "source": [
        "from sklearn.preprocessing import MinMaxScaler\n",
        "#Now, lets scale all the value in x within 0 to 1...\n",
        "scaler = MinMaxScaler() # creating object of MinMaxScaler\n",
        "scaler.fit(x)\n",
        "\n",
        "x = scaler.transform(x)\n",
        "\n",
        "x = pd.DataFrame(x)\n",
        "x"
      ],
      "execution_count": 365,
      "outputs": [
        {
          "output_type": "execute_result",
          "data": {
            "text/html": [
              "<div>\n",
              "<style scoped>\n",
              "    .dataframe tbody tr th:only-of-type {\n",
              "        vertical-align: middle;\n",
              "    }\n",
              "\n",
              "    .dataframe tbody tr th {\n",
              "        vertical-align: top;\n",
              "    }\n",
              "\n",
              "    .dataframe thead th {\n",
              "        text-align: right;\n",
              "    }\n",
              "</style>\n",
              "<table border=\"1\" class=\"dataframe\">\n",
              "  <thead>\n",
              "    <tr style=\"text-align: right;\">\n",
              "      <th></th>\n",
              "      <th>0</th>\n",
              "      <th>1</th>\n",
              "      <th>2</th>\n",
              "      <th>3</th>\n",
              "      <th>4</th>\n",
              "      <th>5</th>\n",
              "      <th>6</th>\n",
              "      <th>7</th>\n",
              "      <th>8</th>\n",
              "    </tr>\n",
              "  </thead>\n",
              "  <tbody>\n",
              "    <tr>\n",
              "      <th>0</th>\n",
              "      <td>0.109210</td>\n",
              "      <td>0.474536</td>\n",
              "      <td>0.445730</td>\n",
              "      <td>0.445555</td>\n",
              "      <td>0.598194</td>\n",
              "      <td>0.383209</td>\n",
              "      <td>0.439285</td>\n",
              "      <td>0.700896</td>\n",
              "      <td>0.466974</td>\n",
              "    </tr>\n",
              "    <tr>\n",
              "      <th>1</th>\n",
              "      <td>0.996451</td>\n",
              "      <td>0.665153</td>\n",
              "      <td>0.444911</td>\n",
              "      <td>0.531076</td>\n",
              "      <td>0.730616</td>\n",
              "      <td>0.162937</td>\n",
              "      <td>0.282704</td>\n",
              "      <td>0.581192</td>\n",
              "      <td>0.519492</td>\n",
              "    </tr>\n",
              "    <tr>\n",
              "      <th>2</th>\n",
              "      <td>0.129411</td>\n",
              "      <td>0.281933</td>\n",
              "      <td>0.521438</td>\n",
              "      <td>0.743086</td>\n",
              "      <td>0.476818</td>\n",
              "      <td>0.281051</td>\n",
              "      <td>0.411777</td>\n",
              "      <td>0.431701</td>\n",
              "      <td>0.598298</td>\n",
              "    </tr>\n",
              "    <tr>\n",
              "      <th>3</th>\n",
              "      <td>0.081203</td>\n",
              "      <td>0.501326</td>\n",
              "      <td>0.446407</td>\n",
              "      <td>0.618833</td>\n",
              "      <td>0.000000</td>\n",
              "      <td>0.709782</td>\n",
              "      <td>0.299772</td>\n",
              "      <td>0.508344</td>\n",
              "      <td>0.457830</td>\n",
              "    </tr>\n",
              "    <tr>\n",
              "      <th>4</th>\n",
              "      <td>0.086200</td>\n",
              "      <td>0.402212</td>\n",
              "      <td>0.411158</td>\n",
              "      <td>0.577425</td>\n",
              "      <td>0.750469</td>\n",
              "      <td>0.676427</td>\n",
              "      <td>0.437802</td>\n",
              "      <td>0.610199</td>\n",
              "      <td>0.620713</td>\n",
              "    </tr>\n",
              "    <tr>\n",
              "      <th>...</th>\n",
              "      <td>...</td>\n",
              "      <td>...</td>\n",
              "      <td>...</td>\n",
              "      <td>...</td>\n",
              "      <td>...</td>\n",
              "      <td>...</td>\n",
              "      <td>...</td>\n",
              "      <td>...</td>\n",
              "      <td>...</td>\n",
              "    </tr>\n",
              "    <tr>\n",
              "      <th>3271</th>\n",
              "      <td>0.090992</td>\n",
              "      <td>0.655681</td>\n",
              "      <td>0.162461</td>\n",
              "      <td>0.440859</td>\n",
              "      <td>0.579883</td>\n",
              "      <td>0.454683</td>\n",
              "      <td>0.575829</td>\n",
              "      <td>0.524105</td>\n",
              "      <td>0.650248</td>\n",
              "    </tr>\n",
              "    <tr>\n",
              "      <th>3272</th>\n",
              "      <td>0.996451</td>\n",
              "      <td>0.497783</td>\n",
              "      <td>0.230636</td>\n",
              "      <td>0.608838</td>\n",
              "      <td>0.647293</td>\n",
              "      <td>0.508598</td>\n",
              "      <td>0.531550</td>\n",
              "      <td>0.592009</td>\n",
              "      <td>0.592382</td>\n",
              "    </tr>\n",
              "    <tr>\n",
              "      <th>3273</th>\n",
              "      <td>0.116842</td>\n",
              "      <td>0.534299</td>\n",
              "      <td>0.221800</td>\n",
              "      <td>0.411047</td>\n",
              "      <td>0.000000</td>\n",
              "      <td>0.245553</td>\n",
              "      <td>0.638733</td>\n",
              "      <td>0.531920</td>\n",
              "      <td>0.465460</td>\n",
              "    </tr>\n",
              "    <tr>\n",
              "      <th>3274</th>\n",
              "      <td>0.128961</td>\n",
              "      <td>0.385492</td>\n",
              "      <td>0.322619</td>\n",
              "      <td>0.572187</td>\n",
              "      <td>0.594563</td>\n",
              "      <td>0.593371</td>\n",
              "      <td>0.482053</td>\n",
              "      <td>0.595397</td>\n",
              "      <td>0.270967</td>\n",
              "    </tr>\n",
              "    <tr>\n",
              "      <th>3275</th>\n",
              "      <td>0.143992</td>\n",
              "      <td>0.637901</td>\n",
              "      <td>0.459261</td>\n",
              "      <td>0.415924</td>\n",
              "      <td>0.000000</td>\n",
              "      <td>0.379456</td>\n",
              "      <td>0.350604</td>\n",
              "      <td>0.355634</td>\n",
              "      <td>0.468742</td>\n",
              "    </tr>\n",
              "  </tbody>\n",
              "</table>\n",
              "<p>3276 rows × 9 columns</p>\n",
              "</div>"
            ],
            "text/plain": [
              "             0         1         2  ...         6         7         8\n",
              "0     0.109210  0.474536  0.445730  ...  0.439285  0.700896  0.466974\n",
              "1     0.996451  0.665153  0.444911  ...  0.282704  0.581192  0.519492\n",
              "2     0.129411  0.281933  0.521438  ...  0.411777  0.431701  0.598298\n",
              "3     0.081203  0.501326  0.446407  ...  0.299772  0.508344  0.457830\n",
              "4     0.086200  0.402212  0.411158  ...  0.437802  0.610199  0.620713\n",
              "...        ...       ...       ...  ...       ...       ...       ...\n",
              "3271  0.090992  0.655681  0.162461  ...  0.575829  0.524105  0.650248\n",
              "3272  0.996451  0.497783  0.230636  ...  0.531550  0.592009  0.592382\n",
              "3273  0.116842  0.534299  0.221800  ...  0.638733  0.531920  0.465460\n",
              "3274  0.128961  0.385492  0.322619  ...  0.482053  0.595397  0.270967\n",
              "3275  0.143992  0.637901  0.459261  ...  0.350604  0.355634  0.468742\n",
              "\n",
              "[3276 rows x 9 columns]"
            ]
          },
          "metadata": {
            "tags": []
          },
          "execution_count": 365
        }
      ]
    },
    {
      "cell_type": "code",
      "metadata": {
        "colab": {
          "base_uri": "https://localhost:8080/",
          "height": 702
        },
        "id": "rzoJrgHasM3a",
        "outputId": "496c4fd1-0003-415c-9a78-6506e18762a6"
      },
      "source": [
        "df.hist(bins=10, figsize=(20,15), color = 'teal')"
      ],
      "execution_count": 366,
      "outputs": [
        {
          "output_type": "execute_result",
          "data": {
            "text/plain": [
              "array([[<matplotlib.axes._subplots.AxesSubplot object at 0x7f32da021d90>,\n",
              "        <matplotlib.axes._subplots.AxesSubplot object at 0x7f32d9cff610>,\n",
              "        <matplotlib.axes._subplots.AxesSubplot object at 0x7f32d9cafbd0>],\n",
              "       [<matplotlib.axes._subplots.AxesSubplot object at 0x7f32d9c64dd0>,\n",
              "        <matplotlib.axes._subplots.AxesSubplot object at 0x7f32d9c25290>,\n",
              "        <matplotlib.axes._subplots.AxesSubplot object at 0x7f32d9c5b810>],\n",
              "       [<matplotlib.axes._subplots.AxesSubplot object at 0x7f32d9c0fe10>,\n",
              "        <matplotlib.axes._subplots.AxesSubplot object at 0x7f32d9bd2310>,\n",
              "        <matplotlib.axes._subplots.AxesSubplot object at 0x7f32d9bd2350>],\n",
              "       [<matplotlib.axes._subplots.AxesSubplot object at 0x7f32d9b889d0>,\n",
              "        <matplotlib.axes._subplots.AxesSubplot object at 0x7f32d9b01410>,\n",
              "        <matplotlib.axes._subplots.AxesSubplot object at 0x7f32d9ab4990>]],\n",
              "      dtype=object)"
            ]
          },
          "metadata": {
            "tags": []
          },
          "execution_count": 366
        },
        {
          "output_type": "display_data",
          "data": {
            "image/png": "[encoded data removed]",
            "text/plain": [
              "<Figure size 1440x1080 with 12 Axes>"
            ]
          },
          "metadata": {
            "tags": []
          }
        }
      ]
    },
    {
      "cell_type": "code",
      "metadata": {
        "colab": {
          "base_uri": "https://localhost:8080/",
          "height": 280
        },
        "id": "VmfFeu3ksbLP",
        "outputId": "05b969aa-1fd6-475b-8f94-9340f872cfb3"
      },
      "source": [
        "import matplotlib.pyplot as plt\n",
        "fig = plt.figure(figsize=(25,10))\n",
        " \n",
        "p1 = fig.add_subplot(2,2,1)\n",
        "p1.hist(df.ph[df.Potability == 0], bins=20, alpha = .4)\n",
        "p1.hist(df.ph[df.Potability == 1], bins=20, alpha = .4)\n",
        "plt.title('pH')\n",
        "plt.xlabel('pH')\n",
        "plt.ylabel('Count')\n",
        "labels = [\"0\", \"1\"]\n",
        "plt.legend(labels)\n",
        "\n",
        "p1 = fig.add_subplot(2,2,2)\n",
        "p1.hist(df.Hardness[df.Potability == 0], bins=20, alpha = .4)\n",
        "p1.hist(df.Hardness[df.Potability == 1], bins=20, alpha = .4)\n",
        "plt.title('Hardness')\n",
        "plt.xlabel('Hardness')\n",
        "plt.ylabel('Count')\n",
        "labels = [\"0\", \"1\"]\n",
        "plt.legend(labels)\n",
        "\n",
        "p1 = fig.add_subplot(2,2,3)\n",
        "p1.hist(df.Solids[df.Potability == 0], bins=20, alpha = .4)\n",
        "p1.hist(df.Solids[df.Potability == 1], bins=20, alpha = .4)\n",
        "plt.title('Solids')\n",
        "plt.xlabel('Solids')\n",
        "plt.ylabel('Count')\n",
        "labels = [\"0\", \"1\"]\n",
        "plt.legend(labels)\n",
        "\n",
        "p1 = fig.add_subplot(2,2,4)\n",
        "p1.hist(df.Chloramines[df.Potability == 0], bins=20, alpha = .4)\n",
        "p1.hist(df.Chloramines[df.Potability == 1], bins=20, alpha = .4)\n",
        "plt.title('Chloramines')\n",
        "plt.xlabel('Chloramines')\n",
        "plt.ylabel('Count')\n",
        "labels = [\"0\", \"1\"]\n",
        "plt.legend(labels)\n",
        " \n",
        "plt.subplots_adjust(wspace=.1, hspace=.3)\n",
        "plt.show()"
      ],
      "execution_count": 367,
      "outputs": [
        {
          "output_type": "display_data",
          "data": {
            "image/png": "[encoded data removed]",
            "text/plain": [
              "<Figure size 1800x720 with 4 Axes>"
            ]
          },
          "metadata": {
            "tags": []
          }
        }
      ]
    },
    {
      "cell_type": "code",
      "metadata": {
        "colab": {
          "base_uri": "https://localhost:8080/",
          "height": 318
        },
        "id": "GpdS7mgSxIHh",
        "outputId": "c43fa845-1cab-4647-8c1a-68135748a1fd"
      },
      "source": [
        "count_classes = pd.value_counts(y,sort=True)\n",
        "count_classes.plot(kind = 'bar', rot = 0)\n",
        "plt.title(\"Potability Class Distribution\")\n",
        "plt.xticks(range(2))\n",
        "plt.xlabel(\"Potability\")\n",
        "plt.ylabel(\"Frequency\")"
      ],
      "execution_count": 368,
      "outputs": [
        {
          "output_type": "execute_result",
          "data": {
            "text/plain": [
              "Text(0, 0.5, 'Frequency')"
            ]
          },
          "metadata": {
            "tags": []
          },
          "execution_count": 368
        },
        {
          "output_type": "display_data",
          "data": {
            "image/png": "[encoded data removed]",
            "text/plain": [
              "<Figure size 432x288 with 1 Axes>"
            ]
          },
          "metadata": {
            "tags": []
          }
        }
      ]
    },
    {
      "cell_type": "code",
      "metadata": {
        "colab": {
          "base_uri": "https://localhost:8080/",
          "height": 280
        },
        "id": "07TSQ17sqMDc",
        "outputId": "21fcccac-1b0c-4577-8802-f6d1cd08aa8d"
      },
      "source": [
        "\n",
        "import matplotlib.pyplot as plt\n",
        "fig = plt.figure(figsize=(25,10))\n",
        " \n",
        "p1 = fig.add_subplot(2,2,1)\n",
        "p1.hist(df.ph[df.Potability == 0], bins=20, alpha = .4)\n",
        "p1.hist(df.ph[df.Potability == 1], bins=20, alpha = .4)\n",
        "plt.title('pH')\n",
        "plt.xlabel('pH')\n",
        "plt.ylabel('Count')\n",
        "labels = [\"0\", \"1\"]\n",
        "plt.legend(labels)\n",
        "\n",
        "p1 = fig.add_subplot(2,2,2)\n",
        "p1.hist(df.Hardness[df.Potability == 0], bins=20, alpha = .4)\n",
        "p1.hist(df.Hardness[df.Potability == 1], bins=20, alpha = .4)\n",
        "plt.title('Hardness')\n",
        "plt.xlabel('Hardness')\n",
        "plt.ylabel('Count')\n",
        "labels = [\"0\", \"1\"]\n",
        "plt.legend(labels)\n",
        "\n",
        "p1 = fig.add_subplot(2,2,3)\n",
        "p1.hist(df.Solids[df.Potability == 0], bins=20, alpha = .4)\n",
        "p1.hist(df.Solids[df.Potability == 1], bins=20, alpha = .4)\n",
        "plt.title('Solids')\n",
        "plt.xlabel('Solids')\n",
        "plt.ylabel('Count')\n",
        "labels = [\"0\", \"1\"]\n",
        "plt.legend(labels)\n",
        "\n",
        "p1 = fig.add_subplot(2,2,4)\n",
        "p1.hist(df.Chloramines[df.Potability == 0], bins=20, alpha = .4)\n",
        "p1.hist(df.Chloramines[df.Potability == 1], bins=20, alpha = .4)\n",
        "plt.title('Chloramines')\n",
        "plt.xlabel('Chloramines')\n",
        "plt.ylabel('Count')\n",
        "labels = [\"0\", \"1\"]\n",
        "plt.legend(labels)\n",
        " \n",
        "plt.subplots_adjust(wspace=.1, hspace=.3)\n",
        "plt.show()"
      ],
      "execution_count": 369,
      "outputs": [
        {
          "output_type": "display_data",
          "data": {
            "image/png": "[encoded data removed]",
            "text/plain": [
              "<Figure size 1800x720 with 4 Axes>"
            ]
          },
          "metadata": {
            "tags": []
          }
        }
      ]
    },
    {
      "cell_type": "markdown",
      "metadata": {
        "id": "QFZZ4pcZEiyX"
      },
      "source": [
        "#Over Sampling"
      ]
    },
    {
      "cell_type": "code",
      "metadata": {
        "id": "SLwfgBJ-x4l6"
      },
      "source": [
        "zero = df[df['Potability']==0]\n",
        "one = df[df['Potability']==1]"
      ],
      "execution_count": 370,
      "outputs": []
    },
    {
      "cell_type": "code",
      "metadata": {
        "colab": {
          "base_uri": "https://localhost:8080/"
        },
        "id": "fU2J5t-YyEL8",
        "outputId": "281db4b9-faa6-4c8d-bc5c-3e54c5c469b3"
      },
      "source": [
        "print(zero.shape,one.shape)"
      ],
      "execution_count": 371,
      "outputs": [
        {
          "output_type": "stream",
          "text": [
            "(1998, 10) (1278, 10)\n"
          ],
          "name": "stdout"
        }
      ]
    },
    {
      "cell_type": "code",
      "metadata": {
        "colab": {
          "base_uri": "https://localhost:8080/"
        },
        "id": "eCQ7SkeYyXNk",
        "outputId": "fab1cd65-7f15-4e7f-8d93-59ebfa4e0f84"
      },
      "source": [
        "from imblearn.over_sampling import SMOTE\n",
        "oversample = SMOTE()\n",
        "x_res, y_res = oversample.fit_resample(x, y)"
      ],
      "execution_count": 372,
      "outputs": [
        {
          "output_type": "stream",
          "text": [
            "/usr/local/lib/python3.7/dist-packages/sklearn/utils/deprecation.py:87: FutureWarning: Function safe_indexing is deprecated; safe_indexing is deprecated in version 0.22 and will be removed in version 0.24.\n",
            "  warnings.warn(msg, category=FutureWarning)\n"
          ],
          "name": "stderr"
        }
      ]
    },
    {
      "cell_type": "code",
      "metadata": {
        "colab": {
          "base_uri": "https://localhost:8080/"
        },
        "id": "ZZQwbZiSyyVA",
        "outputId": "3f24087c-4c8d-44f0-ebfa-f0df587e9b52"
      },
      "source": [
        "x_res.shape,y_res.shape\n"
      ],
      "execution_count": 373,
      "outputs": [
        {
          "output_type": "execute_result",
          "data": {
            "text/plain": [
              "((3996, 9), (3996,))"
            ]
          },
          "metadata": {
            "tags": []
          },
          "execution_count": 373
        }
      ]
    },
    {
      "cell_type": "code",
      "metadata": {
        "colab": {
          "base_uri": "https://localhost:8080/",
          "height": 318
        },
        "id": "3UnKEXfcyyqE",
        "outputId": "fa4d26be-6fe2-4c72-f519-456d0b6ddb95"
      },
      "source": [
        "count_classes = pd.value_counts(y_res,sort=True)\n",
        "count_classes.plot(kind = 'bar', rot = 0)\n",
        "plt.title(\"Potability Class Distribution\")\n",
        "plt.xticks(range(2))\n",
        "plt.xlabel(\"Potability\")\n",
        "plt.ylabel(\"Frequency\")"
      ],
      "execution_count": 374,
      "outputs": [
        {
          "output_type": "execute_result",
          "data": {
            "text/plain": [
              "Text(0, 0.5, 'Frequency')"
            ]
          },
          "metadata": {
            "tags": []
          },
          "execution_count": 374
        },
        {
          "output_type": "display_data",
          "data": {
            "image/png": "[encoded data removed]",
            "text/plain": [
              "<Figure size 432x288 with 1 Axes>"
            ]
          },
          "metadata": {
            "tags": []
          }
        }
      ]
    },
    {
      "cell_type": "markdown",
      "metadata": {
        "id": "sHRBSMPTEna7"
      },
      "source": [
        "# Classifiers"
      ]
    },
    {
      "cell_type": "code",
      "metadata": {
        "id": "a7vMDdA9o6zU"
      },
      "source": [
        "from numpy import mean\n",
        "from numpy import std\n",
        "from sklearn.model_selection import KFold\n",
        "from sklearn.model_selection import cross_val_score\n",
        "from sklearn.ensemble import RandomForestClassifier"
      ],
      "execution_count": 375,
      "outputs": []
    },
    {
      "cell_type": "code",
      "metadata": {
        "id": "f8tXV16Spb0p"
      },
      "source": [
        "# prepare the cross-validation procedure\n",
        "cv = KFold(n_splits=10, random_state=1, shuffle=True)"
      ],
      "execution_count": 376,
      "outputs": []
    },
    {
      "cell_type": "code",
      "metadata": {
        "id": "TZDql0DvpcGx"
      },
      "source": [
        "randomForestClassifier = RandomForestClassifier(n_estimators = 1000)"
      ],
      "execution_count": 377,
      "outputs": []
    },
    {
      "cell_type": "code",
      "metadata": {
        "id": "JLtpuonApcQ1"
      },
      "source": [
        "scores = cross_val_score(randomForestClassifier, x_res, y_res, scoring='accuracy', cv=cv, n_jobs=-1)"
      ],
      "execution_count": 378,
      "outputs": []
    },
    {
      "cell_type": "code",
      "metadata": {
        "colab": {
          "base_uri": "https://localhost:8080/"
        },
        "id": "fQVjCBXApcZ7",
        "outputId": "815de09a-3bc3-41e6-9bc4-687b60b22256"
      },
      "source": [
        "print('Accuracy: %.3f (%.3f)' % (mean(scores), std(scores)))"
      ],
      "execution_count": 379,
      "outputs": [
        {
          "output_type": "stream",
          "text": [
            "Accuracy: 0.841 (0.012)\n"
          ],
          "name": "stdout"
        }
      ]
    },
    {
      "cell_type": "code",
      "metadata": {
        "id": "nl_IIdbd33_W"
      },
      "source": [
        "#to plot accuracy bar\n",
        "accuracy_list ={}\n",
        "accuracy_list[\"K fold with Random Forest\"] = (mean(scores))"
      ],
      "execution_count": 380,
      "outputs": []
    },
    {
      "cell_type": "code",
      "metadata": {
        "id": "DNhCVDZktBiF"
      },
      "source": [
        "# fit model no training data\n",
        "\n",
        "from xgboost import XGBClassifier\n",
        "\n",
        "xgbClassifier = XGBClassifier()\n",
        "scores = cross_val_score(xgbClassifier, x_res, y_res, scoring='accuracy', cv=cv, n_jobs=-1)"
      ],
      "execution_count": 381,
      "outputs": []
    },
    {
      "cell_type": "code",
      "metadata": {
        "colab": {
          "base_uri": "https://localhost:8080/"
        },
        "id": "d0lRyQw4teOT",
        "outputId": "c8b81b3c-2198-46b8-f095-50abf3a53f36"
      },
      "source": [
        "print('Accuracy: %.3f (%.3f)' % (mean(scores), std(scores)))"
      ],
      "execution_count": 382,
      "outputs": [
        {
          "output_type": "stream",
          "text": [
            "Accuracy: 0.762 (0.017)\n"
          ],
          "name": "stdout"
        }
      ]
    },
    {
      "cell_type": "code",
      "metadata": {
        "colab": {
          "base_uri": "https://localhost:8080/"
        },
        "id": "DDYXIeJCpcjX",
        "outputId": "7319706b-8e54-4c85-ba44-832625c51bc4"
      },
      "source": [
        "accuracy_list[\"K fold with XG Boost\"] = (mean(scores))\n",
        "print(accuracy_list)"
      ],
      "execution_count": 383,
      "outputs": [
        {
          "output_type": "stream",
          "text": [
            "{'K fold with Random Forest': 0.8410864661654134, 'K fold with XG Boost': 0.7622537593984963}\n"
          ],
          "name": "stdout"
        }
      ]
    },
    {
      "cell_type": "code",
      "metadata": {
        "id": "kc4pUrP_pctc"
      },
      "source": [
        ""
      ],
      "execution_count": 383,
      "outputs": []
    },
    {
      "cell_type": "code",
      "metadata": {
        "id": "LR6o5R7nndqt"
      },
      "source": [
        "from sklearn.model_selection import train_test_split\n",
        "x_train, x_test, y_train, y_test = train_test_split(x,y, test_size = 0.2, stratify = y)\n",
        "y_train = pd.Series(y_train)"
      ],
      "execution_count": 384,
      "outputs": []
    },
    {
      "cell_type": "code",
      "metadata": {
        "colab": {
          "base_uri": "https://localhost:8080/"
        },
        "id": "kClu86gZojcv",
        "outputId": "d9466855-5baa-4c8b-9bf3-52f0fae53c17"
      },
      "source": [
        "from sklearn.metrics import accuracy_score\n",
        "#Random Forest\n",
        "randomForestClassifier = RandomForestClassifier(n_estimators = 1000)\n",
        "randomForestClassifier.fit(x_train, y_train.values.ravel())\n",
        "predictionsRandomForestClassifier = randomForestClassifier.predict(x_test)\n",
        "accuracyRandomForestClassifier = accuracy_score(predictionsRandomForestClassifier, y_test)\n",
        "print(accuracyRandomForestClassifier)"
      ],
      "execution_count": 385,
      "outputs": [
        {
          "output_type": "stream",
          "text": [
            "0.8079268292682927\n"
          ],
          "name": "stdout"
        }
      ]
    },
    {
      "cell_type": "code",
      "metadata": {
        "colab": {
          "base_uri": "https://localhost:8080/"
        },
        "id": "zMOoguFC48RY",
        "outputId": "91f52113-65d7-46c1-c0e0-a3ef50dc514e"
      },
      "source": [
        "accuracy_list[\"Random Forest\"] = accuracyRandomForestClassifier*100\n",
        "print(accuracy_list)"
      ],
      "execution_count": 386,
      "outputs": [
        {
          "output_type": "stream",
          "text": [
            "{'K fold with Random Forest': 0.8410864661654134, 'K fold with XG Boost': 0.7622537593984963, 'Random Forest': 80.79268292682927}\n"
          ],
          "name": "stdout"
        }
      ]
    },
    {
      "cell_type": "code",
      "metadata": {
        "colab": {
          "base_uri": "https://localhost:8080/"
        },
        "id": "4GdKCtIBxB9z",
        "outputId": "33810138-20fd-41a0-9131-7b325d4b218e"
      },
      "source": [
        "# fit model no training data\n",
        "model = XGBClassifier()\n",
        "model.fit(x_train, y_train,verbose=True)\n",
        "print(model)"
      ],
      "execution_count": 387,
      "outputs": [
        {
          "output_type": "stream",
          "text": [
            "XGBClassifier(base_score=0.5, booster='gbtree', colsample_bylevel=1,\n",
            "              colsample_bynode=1, colsample_bytree=1, gamma=0,\n",
            "              learning_rate=0.1, max_delta_step=0, max_depth=3,\n",
            "              min_child_weight=1, missing=None, n_estimators=100, n_jobs=1,\n",
            "              nthread=None, objective='binary:logistic', random_state=0,\n",
            "              reg_alpha=0, reg_lambda=1, scale_pos_weight=1, seed=None,\n",
            "              silent=None, subsample=1, verbosity=1)\n"
          ],
          "name": "stdout"
        }
      ]
    },
    {
      "cell_type": "code",
      "metadata": {
        "id": "Woy1FsekxV6M"
      },
      "source": [
        "\n",
        "# make predictions for test data\n",
        "y_pred = model.predict(x_test)\n",
        "predictions = [round(value) for value in y_pred]"
      ],
      "execution_count": 388,
      "outputs": []
    },
    {
      "cell_type": "code",
      "metadata": {
        "id": "JKGaN4TZ01qv",
        "colab": {
          "base_uri": "https://localhost:8080/"
        },
        "outputId": "a3241377-0d25-4f34-d2c7-29884b043aec"
      },
      "source": [
        "# evaluate predictions\n",
        "accuracy = accuracy_score(y_test, predictions)\n",
        "print(\"Accuracy: %.2f%%\" % (accuracy * 100.0))"
      ],
      "execution_count": 389,
      "outputs": [
        {
          "output_type": "stream",
          "text": [
            "Accuracy: 77.59%\n"
          ],
          "name": "stdout"
        }
      ]
    },
    {
      "cell_type": "code",
      "metadata": {
        "colab": {
          "base_uri": "https://localhost:8080/"
        },
        "id": "seC5_dNWxdSF",
        "outputId": "49025ebc-349c-4a6c-ac27-64550a786398"
      },
      "source": [
        "\n",
        "accuracy_list[\"XG Boost\"] = accuracy*100\n",
        "print(accuracy_list)"
      ],
      "execution_count": 390,
      "outputs": [
        {
          "output_type": "stream",
          "text": [
            "{'K fold with Random Forest': 0.8410864661654134, 'K fold with XG Boost': 0.7622537593984963, 'Random Forest': 80.79268292682927, 'XG Boost': 77.59146341463415}\n"
          ],
          "name": "stdout"
        }
      ]
    },
    {
      "cell_type": "code",
      "metadata": {
        "colab": {
          "base_uri": "https://localhost:8080/"
        },
        "id": "mCtL96di5cFC",
        "outputId": "951f16ff-5116-4c39-8d49-99313a06b42b"
      },
      "source": [
        "import matplotlib.pyplot as plt\n",
        "accuracy_list['K fold with Random Forest'] = accuracy_list['K fold with Random Forest']*1000\n",
        "accuracy_list['K fold with XG Boost']= accuracy_list['K fold with XG Boost']*1000\n",
        "print(accuracy_list)\n"
      ],
      "execution_count": 391,
      "outputs": [
        {
          "output_type": "stream",
          "text": [
            "{'K fold with Random Forest': 841.0864661654134, 'K fold with XG Boost': 762.2537593984963, 'Random Forest': 80.79268292682927, 'XG Boost': 77.59146341463415}\n"
          ],
          "name": "stdout"
        }
      ]
    },
    {
      "cell_type": "code",
      "metadata": {
        "colab": {
          "base_uri": "https://localhost:8080/"
        },
        "id": "e2LZmx2f5zsc",
        "outputId": "24f07ec3-6dd8-4a37-bba6-6b17f883e053"
      },
      "source": [
        "accuracy_list['K fold with Random Forest'] = accuracy_list['K fold with Random Forest']/10\n",
        "accuracy_list['K fold with XG Boost']= accuracy_list['K fold with XG Boost']/10\n",
        "print(accuracy_list)"
      ],
      "execution_count": 392,
      "outputs": [
        {
          "output_type": "stream",
          "text": [
            "{'K fold with Random Forest': 84.10864661654134, 'K fold with XG Boost': 76.22537593984963, 'Random Forest': 80.79268292682927, 'XG Boost': 77.59146341463415}\n"
          ],
          "name": "stdout"
        }
      ]
    },
    {
      "cell_type": "code",
      "metadata": {
        "colab": {
          "base_uri": "https://localhost:8080/",
          "height": 712
        },
        "id": "x8W9XT5h_psI",
        "outputId": "cc952123-5968-46cb-9e28-107cf465719a"
      },
      "source": [
        "names = list(accuracy_list.keys())\n",
        "values = list(accuracy_list.values())\n",
        "\n",
        "fig, axs = plt.subplots(3,1, figsize=(15, 15), sharey=True)\n",
        "axs[0].bar(names, values)\n",
        "axs[1].scatter(names, values)\n",
        "axs[2].plot(names, values)\n",
        "fig.suptitle('Categorical Plotting')"
      ],
      "execution_count": 393,
      "outputs": [
        {
          "output_type": "execute_result",
          "data": {
            "text/plain": [
              "Text(0.5, 0.98, 'Categorical Plotting')"
            ]
          },
          "metadata": {
            "tags": []
          },
          "execution_count": 393
        },
        {
          "output_type": "display_data",
          "data": {
            "image/png": "[encoded data removed]",
            "text/plain": [
              "<Figure size 1080x1080 with 3 Axes>"
            ]
          },
          "metadata": {
            "tags": []
          }
        }
      ]
    },
    {
      "cell_type": "code",
      "metadata": {
        "id": "oDZIU_fq_zKq"
      },
      "source": [
        ""
      ],
      "execution_count": 393,
      "outputs": []
    }
  ]
}